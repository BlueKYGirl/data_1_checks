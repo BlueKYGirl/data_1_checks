{
 "cells": [
  {
   "attachments": {},
   "cell_type": "markdown",
   "metadata": {},
   "source": [
    "### A statement that prints, \"Hello world!\""
   ]
  },
  {
   "cell_type": "code",
   "execution_count": 4,
   "metadata": {},
   "outputs": [
    {
     "name": "stdout",
     "output_type": "stream",
     "text": [
      "Hello, world!\n"
     ]
    }
   ],
   "source": [
    "print(\"Hello, world!\")"
   ]
  },
  {
   "attachments": {},
   "cell_type": "markdown",
   "metadata": {},
   "source": [
    "### A list, with a call for one of the values to be printed\n"
   ]
  },
  {
   "cell_type": "code",
   "execution_count": 5,
   "metadata": {},
   "outputs": [
    {
     "name": "stdout",
     "output_type": "stream",
     "text": [
      "23\n"
     ]
    }
   ],
   "source": [
    "Lost_numbers = [4, 8, 15, 16, 23, 42]\n",
    "print(Lost_numbers [4])"
   ]
  },
  {
   "attachments": {},
   "cell_type": "markdown",
   "metadata": {},
   "source": [
    "### A dictionary, populated with (at least) two keys and (at least) two values, with a call for one of the values to be printed"
   ]
  },
  {
   "cell_type": "code",
   "execution_count": 6,
   "metadata": {},
   "outputs": [
    {
     "name": "stdout",
     "output_type": "stream",
     "text": [
      "Shephard\n"
     ]
    }
   ],
   "source": [
    "# I used more than two keys and values because when it comes to Lost,\n",
    "# I can't help myself. \n",
    "\n",
    "Jacobs_List = {\n",
    "                \"4\" : \"Locke\",\n",
    "                \"8\" : \"Reyes\",\n",
    "                \"15\" : \"Ford\",\n",
    "                \"16\" : \"Jarrah\", \n",
    "                \"23\" : \"Shephard\",\n",
    "                \"42\" : \"Kwon\"\n",
    "                }\n",
    "print(Jacobs_List[\"23\"])"
   ]
  },
  {
   "attachments": {},
   "cell_type": "markdown",
   "metadata": {},
   "source": [
    "### A tuple with (at least) 4 values, with a call to print one of them\n"
   ]
  },
  {
   "cell_type": "code",
   "execution_count": 8,
   "metadata": {},
   "outputs": [
    {
     "name": "stdout",
     "output_type": "stream",
     "text": [
      "8\n"
     ]
    }
   ],
   "source": [
    "Hurleys_lotto_nums = (4, 8, 15, 16, 23, 42)\n",
    "print(Hurleys_lotto_nums[1])"
   ]
  },
  {
   "attachments": {},
   "cell_type": "markdown",
   "metadata": {},
   "source": [
    "### A challenge I gave myself, just for fun..."
   ]
  },
  {
   "cell_type": "code",
   "execution_count": 13,
   "metadata": {},
   "outputs": [
    {
     "name": "stdout",
     "output_type": "stream",
     "text": [
      "dict_items([('4', 'Locke'), ('8', 'Reyes'), ('15', 'Ford'), ('16', 'Jarrah'), ('23', 'Shephard'), ('42', 'Kwon')])\n"
     ]
    }
   ],
   "source": [
    "# Create a dictoinary of Jacob's \"candidates\"\n",
    "Jacobs_List = {\n",
    "                \"4\" : \"Locke\",\n",
    "                \"8\" : \"Reyes\",\n",
    "                \"15\" : \"Ford\",\n",
    "                \"16\" : \"Jarrah\", \n",
    "                \"23\" : \"Shephard\",\n",
    "                \"42\" : \"Kwon\"\n",
    "                }\n",
    "# Return each item as tuples in a list\n",
    "candidates = Jacobs_List.items()\n",
    "# Print that tuple\n",
    "print(candidates)\n",
    "\n",
    "# I wanted to take this tuple and print one value from it,\n",
    "# but I tried and got stuck..."
   ]
  }
 ],
 "metadata": {
  "kernelspec": {
   "display_name": "Python 3",
   "language": "python",
   "name": "python3"
  },
  "language_info": {
   "codemirror_mode": {
    "name": "ipython",
    "version": 3
   },
   "file_extension": ".py",
   "mimetype": "text/x-python",
   "name": "python",
   "nbconvert_exporter": "python",
   "pygments_lexer": "ipython3",
   "version": "3.11.1"
  },
  "orig_nbformat": 4,
  "vscode": {
   "interpreter": {
    "hash": "1ef998d4ba2660ecbe90e7a51676756bb80ce822b8fb894d6253fa9a6dd55e1c"
   }
  }
 },
 "nbformat": 4,
 "nbformat_minor": 2
}
